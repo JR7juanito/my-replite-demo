{
 "cells": [
  {
   "cell_type": "markdown",
   "id": "a6109a5c",
   "metadata": {},
   "source": [
    "# Interactive Sine Wave\n",
    "This notebook shows an interactive sine wave plot. Use the slider to adjust the frequency of the sine wave."
   ]
  },
  {
   "cell_type": "code",
   "execution_count": null,
   "id": "2acf04b6",
   "metadata": {},
   "outputs": [],
   "source": [
    "import numpy as np\n",
    "import matplotlib.pyplot as plt\n",
    "import ipywidgets as widgets\n",
    "\n",
    "%matplotlib inline\n",
    "\n",
    "def plot_sine(freq):\n",
    "    x = np.linspace(0, 2*np.pi, 400)\n",
    "    y = np.sin(freq * x)\n",
    "    plt.figure()\n",
    "    plt.plot(x, y)\n",
    "    plt.title(f\"Sine Wave (frequency {freq})\")\n",
    "    plt.xlabel(\"x\")\n",
    "    plt.ylabel(\"sin(freq * x)\")\n",
    "    plt.grid(True)\n",
    "    plt.show()\n",
    "\n",
    "widgets.interact(plot_sine, freq=widgets.FloatSlider(value=1, min=0.5, max=5, step=0.1));"
   ]
  }
 ],
 "metadata": {},
 "nbformat": 4,
 "nbformat_minor": 5
}
