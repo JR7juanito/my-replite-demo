{
 "cells": [
  {
   "cell_type": "markdown",
   "id": "eaa4df25",
   "metadata": {},
   "source": [
    "# Interactive Scatter Plot\n",
    "This notebook shows a linear trend with adjustable noise. Use the slider to vary the noise level."
   ]
  },
  {
   "cell_type": "code",
   "execution_count": null,
   "id": "c1ef204b",
   "metadata": {},
   "outputs": [],
   "source": [
    "import numpy as np\n",
    "import matplotlib.pyplot as plt\n",
    "import ipywidgets as widgets\n",
    "\n",
    "%matplotlib inline\n",
    "\n",
    "# Fixed x values\n",
    "x = np.linspace(0, 10, 100)\n",
    "\n",
    "# Use a random seed for reproducibility\n",
    "np.random.seed(0)\n",
    "\n",
    "def plot_scatter(noise):\n",
    "    y = x + noise * np.random.randn(len(x))\n",
    "    plt.figure()\n",
    "    plt.scatter(x, y)\n",
    "    plt.title(f\"Linear Trend with Noise {noise}\")\n",
    "    plt.xlabel(\"x\")\n",
    "    plt.ylabel(\"y\")\n",
    "    plt.grid(True)\n",
    "    plt.show()\n",
    "\n",
    "widgets.interact(plot_scatter, noise=widgets.FloatSlider(value=1, min=0.1, max=3, step=0.1));"
   ]
  }
 ],
 "metadata": {},
 "nbformat": 4,
 "nbformat_minor": 5
}
