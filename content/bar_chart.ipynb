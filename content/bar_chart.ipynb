{
 "cells": [
  {
   "cell_type": "markdown",
   "id": "50023ea2",
   "metadata": {},
   "source": [
    "# Interactive Bar Chart\n",
    "This notebook displays a bar chart with a variable number of bars. Move the slider to change how many bars appear and their random heights."
   ]
  },
  {
   "cell_type": "code",
   "execution_count": null,
   "id": "27955560",
   "metadata": {},
   "outputs": [],
   "source": [
    "import numpy as np\n",
    "import matplotlib.pyplot as plt\n",
    "import ipywidgets as widgets\n",
    "\n",
    "%matplotlib inline\n",
    "\n",
    "def plot_bars(n):\n",
    "    n = int(n)\n",
    "    values = np.random.rand(n)\n",
    "    plt.figure()\n",
    "    plt.bar(range(n), values)\n",
    "    plt.title(f\"Random Bar Chart with {n} Bars\")\n",
    "    plt.xlabel(\"Bar index\")\n",
    "    plt.ylabel(\"Random value\")\n",
    "    plt.ylim(0, 1)\n",
    "    plt.show()\n",
    "\n",
    "widgets.interact(plot_bars, n=widgets.IntSlider(value=5, min=3, max=12, step=1));"
   ]
  }
 ],
 "metadata": {},
 "nbformat": 4,
 "nbformat_minor": 5
}
